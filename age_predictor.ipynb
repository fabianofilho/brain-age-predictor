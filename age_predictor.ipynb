{
  "cells": [
    {
      "cell_type": "markdown",
      "metadata": {
        "id": "view-in-github",
        "colab_type": "text"
      },
      "source": [
        "<a href=\"https://colab.research.google.com/github/fabianofilho/brain-age-predictor/blob/main/age_predictor.ipynb\" target=\"_parent\"><img src=\"https://colab.research.google.com/assets/colab-badge.svg\" alt=\"Open In Colab\"/></a>"
      ]
    },
    {
      "cell_type": "code",
      "execution_count": null,
      "metadata": {
        "colab": {
          "base_uri": "https://localhost:8080/"
        },
        "id": "xrkJ0g4CZKFz",
        "outputId": "d09645db-aa4d-44eb-efec-a774338a6562"
      },
      "outputs": [
        {
          "name": "stdout",
          "output_type": "stream",
          "text": [
            "Mounted at /content/drive\n"
          ]
        }
      ],
      "source": [
        "from google.colab import drive\n",
        "drive.mount('/content/drive')"
      ]
    },
    {
      "cell_type": "code",
      "execution_count": null,
      "metadata": {
        "id": "h0kQ7KVHZeXD"
      },
      "outputs": [],
      "source": [
        "import pandas as pd\n",
        "import numpy as np\n",
        "import sklearn.metrics as m\n",
        "import seaborn as sns"
      ]
    },
    {
      "cell_type": "code",
      "execution_count": null,
      "metadata": {
        "id": "n2UwjQKRZsE_"
      },
      "outputs": [],
      "source": [
        "df = pd.read_csv('/content/drive/MyDrive/EINSTEIN/brain-prediction-rmi/data/volume_and_thickness_octagene.csv',\n",
        "          na_values='na')"
      ]
    },
    {
      "cell_type": "code",
      "execution_count": null,
      "metadata": {
        "colab": {
          "base_uri": "https://localhost:8080/",
          "height": 297
        },
        "id": "k87S1ks6D6SL",
        "outputId": "c68aa86e-cfab-4b1d-f7df-1da620c11f6e"
      },
      "outputs": [
        {
          "data": {
            "text/html": [
              "\n",
              "  <div id=\"df-c7150061-06ac-49d8-92b3-4588d401ee44\">\n",
              "    <div class=\"colab-df-container\">\n",
              "      <div>\n",
              "<style scoped>\n",
              "    .dataframe tbody tr th:only-of-type {\n",
              "        vertical-align: middle;\n",
              "    }\n",
              "\n",
              "    .dataframe tbody tr th {\n",
              "        vertical-align: top;\n",
              "    }\n",
              "\n",
              "    .dataframe thead th {\n",
              "        text-align: right;\n",
              "    }\n",
              "</style>\n",
              "<table border=\"1\" class=\"dataframe\">\n",
              "  <thead>\n",
              "    <tr style=\"text-align: right;\">\n",
              "      <th></th>\n",
              "      <th>ID</th>\n",
              "      <th>age</th>\n",
              "      <th>sex</th>\n",
              "      <th>apoe</th>\n",
              "      <th>mmse</th>\n",
              "      <th>3ms</th>\n",
              "      <th>edinburgh</th>\n",
              "      <th>years_education</th>\n",
              "      <th>whole_hippocampus_L</th>\n",
              "      <th>whole_hippocampus_R</th>\n",
              "      <th>...</th>\n",
              "      <th>rh_S_parieto_occipital</th>\n",
              "      <th>rh_S_pericallosal</th>\n",
              "      <th>rh_S_postcentral</th>\n",
              "      <th>rh_S_precentral_inf_part</th>\n",
              "      <th>rh_S_precentral_sup_part</th>\n",
              "      <th>rh_S_suborbital</th>\n",
              "      <th>rh_S_subparietal</th>\n",
              "      <th>rh_S_temporal_inf</th>\n",
              "      <th>rh_S_temporal_sup</th>\n",
              "      <th>rh_S_temporal_transverse</th>\n",
              "    </tr>\n",
              "  </thead>\n",
              "  <tbody>\n",
              "    <tr>\n",
              "      <th>0</th>\n",
              "      <td>C0555</td>\n",
              "      <td>75</td>\n",
              "      <td>F</td>\n",
              "      <td>34.0</td>\n",
              "      <td>29.0</td>\n",
              "      <td>89.0</td>\n",
              "      <td>100.0</td>\n",
              "      <td>1.0</td>\n",
              "      <td>2676.555781</td>\n",
              "      <td>2753.919307</td>\n",
              "      <td>...</td>\n",
              "      <td>2.268</td>\n",
              "      <td>2.082</td>\n",
              "      <td>2.096</td>\n",
              "      <td>2.782</td>\n",
              "      <td>2.373</td>\n",
              "      <td>3.819</td>\n",
              "      <td>2.388</td>\n",
              "      <td>2.826</td>\n",
              "      <td>2.525</td>\n",
              "      <td>2.425</td>\n",
              "    </tr>\n",
              "    <tr>\n",
              "      <th>1</th>\n",
              "      <td>C0556</td>\n",
              "      <td>65</td>\n",
              "      <td>F</td>\n",
              "      <td>33.0</td>\n",
              "      <td>29.0</td>\n",
              "      <td>97.0</td>\n",
              "      <td>80.0</td>\n",
              "      <td>7.0</td>\n",
              "      <td>3330.647962</td>\n",
              "      <td>3288.266409</td>\n",
              "      <td>...</td>\n",
              "      <td>2.325</td>\n",
              "      <td>1.660</td>\n",
              "      <td>2.207</td>\n",
              "      <td>2.489</td>\n",
              "      <td>2.461</td>\n",
              "      <td>2.306</td>\n",
              "      <td>2.834</td>\n",
              "      <td>2.645</td>\n",
              "      <td>2.609</td>\n",
              "      <td>2.941</td>\n",
              "    </tr>\n",
              "    <tr>\n",
              "      <th>2</th>\n",
              "      <td>C0558</td>\n",
              "      <td>68</td>\n",
              "      <td>F</td>\n",
              "      <td>34.0</td>\n",
              "      <td>29.0</td>\n",
              "      <td>96.0</td>\n",
              "      <td>90.0</td>\n",
              "      <td>2.0</td>\n",
              "      <td>3598.893306</td>\n",
              "      <td>3696.729812</td>\n",
              "      <td>...</td>\n",
              "      <td>2.590</td>\n",
              "      <td>1.719</td>\n",
              "      <td>2.376</td>\n",
              "      <td>2.693</td>\n",
              "      <td>2.776</td>\n",
              "      <td>2.696</td>\n",
              "      <td>2.803</td>\n",
              "      <td>2.246</td>\n",
              "      <td>2.697</td>\n",
              "      <td>2.703</td>\n",
              "    </tr>\n",
              "    <tr>\n",
              "      <th>3</th>\n",
              "      <td>C0561</td>\n",
              "      <td>67</td>\n",
              "      <td>F</td>\n",
              "      <td>33.0</td>\n",
              "      <td>29.0</td>\n",
              "      <td>95.0</td>\n",
              "      <td>80.0</td>\n",
              "      <td>2.0</td>\n",
              "      <td>2916.568139</td>\n",
              "      <td>3046.076847</td>\n",
              "      <td>...</td>\n",
              "      <td>2.656</td>\n",
              "      <td>1.710</td>\n",
              "      <td>2.399</td>\n",
              "      <td>2.749</td>\n",
              "      <td>2.697</td>\n",
              "      <td>2.336</td>\n",
              "      <td>2.801</td>\n",
              "      <td>2.628</td>\n",
              "      <td>2.706</td>\n",
              "      <td>2.459</td>\n",
              "    </tr>\n",
              "    <tr>\n",
              "      <th>4</th>\n",
              "      <td>C0562</td>\n",
              "      <td>64</td>\n",
              "      <td>F</td>\n",
              "      <td>33.0</td>\n",
              "      <td>30.0</td>\n",
              "      <td>97.0</td>\n",
              "      <td>100.0</td>\n",
              "      <td>4.0</td>\n",
              "      <td>3518.949525</td>\n",
              "      <td>3671.865593</td>\n",
              "      <td>...</td>\n",
              "      <td>2.701</td>\n",
              "      <td>2.103</td>\n",
              "      <td>2.332</td>\n",
              "      <td>2.712</td>\n",
              "      <td>2.473</td>\n",
              "      <td>2.200</td>\n",
              "      <td>2.751</td>\n",
              "      <td>2.726</td>\n",
              "      <td>2.671</td>\n",
              "      <td>2.914</td>\n",
              "    </tr>\n",
              "  </tbody>\n",
              "</table>\n",
              "<p>5 rows × 162 columns</p>\n",
              "</div>\n",
              "      <button class=\"colab-df-convert\" onclick=\"convertToInteractive('df-c7150061-06ac-49d8-92b3-4588d401ee44')\"\n",
              "              title=\"Convert this dataframe to an interactive table.\"\n",
              "              style=\"display:none;\">\n",
              "        \n",
              "  <svg xmlns=\"http://www.w3.org/2000/svg\" height=\"24px\"viewBox=\"0 0 24 24\"\n",
              "       width=\"24px\">\n",
              "    <path d=\"M0 0h24v24H0V0z\" fill=\"none\"/>\n",
              "    <path d=\"M18.56 5.44l.94 2.06.94-2.06 2.06-.94-2.06-.94-.94-2.06-.94 2.06-2.06.94zm-11 1L8.5 8.5l.94-2.06 2.06-.94-2.06-.94L8.5 2.5l-.94 2.06-2.06.94zm10 10l.94 2.06.94-2.06 2.06-.94-2.06-.94-.94-2.06-.94 2.06-2.06.94z\"/><path d=\"M17.41 7.96l-1.37-1.37c-.4-.4-.92-.59-1.43-.59-.52 0-1.04.2-1.43.59L10.3 9.45l-7.72 7.72c-.78.78-.78 2.05 0 2.83L4 21.41c.39.39.9.59 1.41.59.51 0 1.02-.2 1.41-.59l7.78-7.78 2.81-2.81c.8-.78.8-2.07 0-2.86zM5.41 20L4 18.59l7.72-7.72 1.47 1.35L5.41 20z\"/>\n",
              "  </svg>\n",
              "      </button>\n",
              "      \n",
              "  <style>\n",
              "    .colab-df-container {\n",
              "      display:flex;\n",
              "      flex-wrap:wrap;\n",
              "      gap: 12px;\n",
              "    }\n",
              "\n",
              "    .colab-df-convert {\n",
              "      background-color: #E8F0FE;\n",
              "      border: none;\n",
              "      border-radius: 50%;\n",
              "      cursor: pointer;\n",
              "      display: none;\n",
              "      fill: #1967D2;\n",
              "      height: 32px;\n",
              "      padding: 0 0 0 0;\n",
              "      width: 32px;\n",
              "    }\n",
              "\n",
              "    .colab-df-convert:hover {\n",
              "      background-color: #E2EBFA;\n",
              "      box-shadow: 0px 1px 2px rgba(60, 64, 67, 0.3), 0px 1px 3px 1px rgba(60, 64, 67, 0.15);\n",
              "      fill: #174EA6;\n",
              "    }\n",
              "\n",
              "    [theme=dark] .colab-df-convert {\n",
              "      background-color: #3B4455;\n",
              "      fill: #D2E3FC;\n",
              "    }\n",
              "\n",
              "    [theme=dark] .colab-df-convert:hover {\n",
              "      background-color: #434B5C;\n",
              "      box-shadow: 0px 1px 3px 1px rgba(0, 0, 0, 0.15);\n",
              "      filter: drop-shadow(0px 1px 2px rgba(0, 0, 0, 0.3));\n",
              "      fill: #FFFFFF;\n",
              "    }\n",
              "  </style>\n",
              "\n",
              "      <script>\n",
              "        const buttonEl =\n",
              "          document.querySelector('#df-c7150061-06ac-49d8-92b3-4588d401ee44 button.colab-df-convert');\n",
              "        buttonEl.style.display =\n",
              "          google.colab.kernel.accessAllowed ? 'block' : 'none';\n",
              "\n",
              "        async function convertToInteractive(key) {\n",
              "          const element = document.querySelector('#df-c7150061-06ac-49d8-92b3-4588d401ee44');\n",
              "          const dataTable =\n",
              "            await google.colab.kernel.invokeFunction('convertToInteractive',\n",
              "                                                     [key], {});\n",
              "          if (!dataTable) return;\n",
              "\n",
              "          const docLinkHtml = 'Like what you see? Visit the ' +\n",
              "            '<a target=\"_blank\" href=https://colab.research.google.com/notebooks/data_table.ipynb>data table notebook</a>'\n",
              "            + ' to learn more about interactive tables.';\n",
              "          element.innerHTML = '';\n",
              "          dataTable['output_type'] = 'display_data';\n",
              "          await google.colab.output.renderOutput(dataTable, element);\n",
              "          const docLink = document.createElement('div');\n",
              "          docLink.innerHTML = docLinkHtml;\n",
              "          element.appendChild(docLink);\n",
              "        }\n",
              "      </script>\n",
              "    </div>\n",
              "  </div>\n",
              "  "
            ],
            "text/plain": [
              "      ID  age sex  apoe  mmse   3ms  edinburgh  years_education  \\\n",
              "0  C0555   75   F  34.0  29.0  89.0      100.0              1.0   \n",
              "1  C0556   65   F  33.0  29.0  97.0       80.0              7.0   \n",
              "2  C0558   68   F  34.0  29.0  96.0       90.0              2.0   \n",
              "3  C0561   67   F  33.0  29.0  95.0       80.0              2.0   \n",
              "4  C0562   64   F  33.0  30.0  97.0      100.0              4.0   \n",
              "\n",
              "   whole_hippocampus_L  whole_hippocampus_R  ...  rh_S_parieto_occipital  \\\n",
              "0          2676.555781          2753.919307  ...                   2.268   \n",
              "1          3330.647962          3288.266409  ...                   2.325   \n",
              "2          3598.893306          3696.729812  ...                   2.590   \n",
              "3          2916.568139          3046.076847  ...                   2.656   \n",
              "4          3518.949525          3671.865593  ...                   2.701   \n",
              "\n",
              "   rh_S_pericallosal  rh_S_postcentral  rh_S_precentral_inf_part  \\\n",
              "0              2.082             2.096                     2.782   \n",
              "1              1.660             2.207                     2.489   \n",
              "2              1.719             2.376                     2.693   \n",
              "3              1.710             2.399                     2.749   \n",
              "4              2.103             2.332                     2.712   \n",
              "\n",
              "   rh_S_precentral_sup_part  rh_S_suborbital  rh_S_subparietal  \\\n",
              "0                     2.373            3.819             2.388   \n",
              "1                     2.461            2.306             2.834   \n",
              "2                     2.776            2.696             2.803   \n",
              "3                     2.697            2.336             2.801   \n",
              "4                     2.473            2.200             2.751   \n",
              "\n",
              "   rh_S_temporal_inf  rh_S_temporal_sup  rh_S_temporal_transverse  \n",
              "0              2.826              2.525                     2.425  \n",
              "1              2.645              2.609                     2.941  \n",
              "2              2.246              2.697                     2.703  \n",
              "3              2.628              2.706                     2.459  \n",
              "4              2.726              2.671                     2.914  \n",
              "\n",
              "[5 rows x 162 columns]"
            ]
          },
          "execution_count": 4,
          "metadata": {},
          "output_type": "execute_result"
        }
      ],
      "source": [
        "df.head()"
      ]
    },
    {
      "cell_type": "code",
      "execution_count": null,
      "metadata": {
        "id": "kdprD5x3ggUk"
      },
      "outputs": [],
      "source": [
        "df['L_hippo_vol_norm']=df['whole_hippocampus_L']/df['whole_brain']\n",
        "df['R_hippo_vol_norm ']=df['whole_hippocampus_R']/df['whole_brain']"
      ]
    },
    {
      "cell_type": "code",
      "execution_count": null,
      "metadata": {
        "id": "BFNCa5C-j6Bq"
      },
      "outputs": [],
      "source": [
        "df.loc[df.sex == 'F', 'sex']=1\n",
        "df.loc[df.sex == 'M', 'sex']=0"
      ]
    },
    {
      "cell_type": "code",
      "execution_count": null,
      "metadata": {
        "id": "j1t894WWkkf2"
      },
      "outputs": [],
      "source": [
        "list_drop = ['ID','edinburgh','3ms','mmse','years_education','whole_hippocampus_L','whole_hippocampus_R','whole_brain','left_hemisphere','right_hemisphere','eTIV']"
      ]
    },
    {
      "cell_type": "code",
      "execution_count": null,
      "metadata": {
        "colab": {
          "base_uri": "https://localhost:8080/"
        },
        "id": "zztY9ptTklpg",
        "outputId": "a119a343-6e43-46d4-a0ee-a7a897f39205"
      },
      "outputs": [
        {
          "name": "stderr",
          "output_type": "stream",
          "text": [
            "/usr/local/lib/python3.7/dist-packages/ipykernel_launcher.py:1: FutureWarning: In a future version of pandas all arguments of DataFrame.drop except for the argument 'labels' will be keyword-only\n",
            "  \"\"\"Entry point for launching an IPython kernel.\n"
          ]
        }
      ],
      "source": [
        "dataset = df.drop(list_drop,1)"
      ]
    },
    {
      "cell_type": "code",
      "execution_count": null,
      "metadata": {
        "id": "rcqC9AkTkJaW"
      },
      "outputs": [],
      "source": [
        "dataset.dropna(inplace=True)"
      ]
    },
    {
      "cell_type": "code",
      "execution_count": null,
      "metadata": {
        "id": "fpZTONoBfueG"
      },
      "outputs": [],
      "source": [
        "training_set = dataset[dataset.apoe == 33]"
      ]
    },
    {
      "cell_type": "code",
      "execution_count": null,
      "metadata": {
        "id": "-GOFxqG9fxuA"
      },
      "outputs": [],
      "source": [
        "test_set = dataset[(dataset.apoe == 22)|(dataset.apoe == 23)|(dataset.apoe == 34)|(dataset.apoe == 44) ]"
      ]
    },
    {
      "cell_type": "code",
      "execution_count": null,
      "metadata": {
        "colab": {
          "base_uri": "https://localhost:8080/"
        },
        "id": "NRpPFHzFgQDH",
        "outputId": "c7cdd45e-ca14-492d-b98a-a8be7f61ccbe"
      },
      "outputs": [
        {
          "data": {
            "text/plain": [
              "((292, 153), (126, 153))"
            ]
          },
          "execution_count": 12,
          "metadata": {},
          "output_type": "execute_result"
        }
      ],
      "source": [
        "training_set.shape, test_set.shape"
      ]
    },
    {
      "cell_type": "code",
      "execution_count": null,
      "metadata": {
        "colab": {
          "base_uri": "https://localhost:8080/"
        },
        "id": "Lr1UsBD6dzic",
        "outputId": "72966331-ec1b-4fae-e7c7-53f28ebf0edb"
      },
      "outputs": [
        {
          "name": "stderr",
          "output_type": "stream",
          "text": [
            "/usr/local/lib/python3.7/dist-packages/ipykernel_launcher.py:1: FutureWarning: In a future version of pandas all arguments of DataFrame.drop except for the argument 'labels' will be keyword-only\n",
            "  \"\"\"Entry point for launching an IPython kernel.\n",
            "/usr/local/lib/python3.7/dist-packages/pandas/core/frame.py:4913: SettingWithCopyWarning: \n",
            "A value is trying to be set on a copy of a slice from a DataFrame\n",
            "\n",
            "See the caveats in the documentation: https://pandas.pydata.org/pandas-docs/stable/user_guide/indexing.html#returning-a-view-versus-a-copy\n",
            "  errors=errors,\n",
            "/usr/local/lib/python3.7/dist-packages/ipykernel_launcher.py:2: FutureWarning: In a future version of pandas all arguments of DataFrame.drop except for the argument 'labels' will be keyword-only\n",
            "  \n"
          ]
        }
      ],
      "source": [
        "training_set.drop('apoe',1,inplace=True)\n",
        "test_set.drop('apoe',1,inplace=True)"
      ]
    },
    {
      "cell_type": "code",
      "execution_count": null,
      "metadata": {
        "colab": {
          "base_uri": "https://localhost:8080/"
        },
        "id": "OkVBeAfZjVuF",
        "outputId": "a7e67114-0d89-4290-f31e-5a2abf121074"
      },
      "outputs": [
        {
          "name": "stderr",
          "output_type": "stream",
          "text": [
            "/usr/local/lib/python3.7/dist-packages/ipykernel_launcher.py:1: FutureWarning: In a future version of pandas all arguments of DataFrame.drop except for the argument 'labels' will be keyword-only\n",
            "  \"\"\"Entry point for launching an IPython kernel.\n"
          ]
        }
      ],
      "source": [
        "X_train = training_set.drop('age',1)\n",
        "y_train = training_set.age"
      ]
    },
    {
      "cell_type": "code",
      "execution_count": null,
      "metadata": {
        "colab": {
          "base_uri": "https://localhost:8080/"
        },
        "id": "vLfnTiN0lRUh",
        "outputId": "021a54c9-f637-4393-a2b9-0007288e871c"
      },
      "outputs": [
        {
          "name": "stderr",
          "output_type": "stream",
          "text": [
            "/usr/local/lib/python3.7/dist-packages/ipykernel_launcher.py:1: FutureWarning: In a future version of pandas all arguments of DataFrame.drop except for the argument 'labels' will be keyword-only\n",
            "  \"\"\"Entry point for launching an IPython kernel.\n"
          ]
        }
      ],
      "source": [
        "X_test = test_set.drop('age',1)\n",
        "y_test = test_set.age"
      ]
    },
    {
      "cell_type": "code",
      "execution_count": null,
      "metadata": {
        "id": "RTKBiuKNeDc3"
      },
      "outputs": [],
      "source": [
        "from sklearn.linear_model import ElasticNetCV"
      ]
    },
    {
      "cell_type": "code",
      "execution_count": null,
      "metadata": {
        "id": "LWJ_Mq5-jDeQ"
      },
      "outputs": [],
      "source": [
        "regr = ElasticNetCV(cv=5, random_state=0)"
      ]
    },
    {
      "cell_type": "code",
      "execution_count": null,
      "metadata": {
        "colab": {
          "base_uri": "https://localhost:8080/"
        },
        "id": "-4hQvoxfjmBh",
        "outputId": "687fb4f6-2694-4c15-e8fc-dac362d73b55"
      },
      "outputs": [
        {
          "data": {
            "text/plain": [
              "ElasticNetCV(cv=5, random_state=0)"
            ]
          },
          "execution_count": 18,
          "metadata": {},
          "output_type": "execute_result"
        }
      ],
      "source": [
        "regr.fit(X_train, y_train)"
      ]
    },
    {
      "cell_type": "code",
      "execution_count": null,
      "metadata": {
        "id": "oEN1KtRilNrG"
      },
      "outputs": [],
      "source": [
        "p = regr.predict(X_test)"
      ]
    },
    {
      "cell_type": "code",
      "execution_count": null,
      "metadata": {
        "id": "b6EwsALqjvMR"
      },
      "outputs": [],
      "source": [
        "from sklearn import metrics as m"
      ]
    },
    {
      "cell_type": "code",
      "execution_count": null,
      "metadata": {
        "colab": {
          "base_uri": "https://localhost:8080/"
        },
        "id": "dHDX7toulEZa",
        "outputId": "88b5005d-ac0a-45e0-acec-8b3131934555"
      },
      "outputs": [
        {
          "data": {
            "text/plain": [
              "76.03546855565352"
            ]
          },
          "execution_count": 21,
          "metadata": {},
          "output_type": "execute_result"
        }
      ],
      "source": [
        "m.mean_squared_error(y_test, p)"
      ]
    },
    {
      "cell_type": "code",
      "execution_count": null,
      "metadata": {
        "colab": {
          "base_uri": "https://localhost:8080/"
        },
        "id": "moUrQ1Gqle0I",
        "outputId": "924c8d19-3e03-45a5-ff45-f50e7f35834d"
      },
      "outputs": [
        {
          "data": {
            "text/plain": [
              "6.735848805498545"
            ]
          },
          "execution_count": 22,
          "metadata": {},
          "output_type": "execute_result"
        }
      ],
      "source": [
        "m.mean_absolute_error(y_test, p)"
      ]
    },
    {
      "cell_type": "code",
      "execution_count": null,
      "metadata": {
        "colab": {
          "base_uri": "https://localhost:8080/"
        },
        "id": "kv6ftF6OlhFy",
        "outputId": "fe479c0c-5852-4d9c-e003-ec60f6f8646b"
      },
      "outputs": [
        {
          "data": {
            "text/plain": [
              "0.04590954273780956"
            ]
          },
          "execution_count": 23,
          "metadata": {},
          "output_type": "execute_result"
        }
      ],
      "source": [
        "m.r2_score(y_test, p)"
      ]
    },
    {
      "cell_type": "code",
      "execution_count": null,
      "metadata": {
        "id": "5CndgtWRlilA"
      },
      "outputs": [],
      "source": [
        "brainAgeGap2  = p-test_set['age']"
      ]
    },
    {
      "cell_type": "code",
      "execution_count": null,
      "metadata": {
        "id": "LreRpv0kl-7Z"
      },
      "outputs": [],
      "source": [
        "# 1. Testar novos modelos = RF, AdaBoost, MLPRegressor (RNA)\n",
        "# https://scikit-learn.org/stable/modules/generated/sklearn.ensemble.RandomForestRegressor.html\n",
        "# 2. Fazer feature importances do RF"
      ]
    },
    {
      "cell_type": "code",
      "execution_count": null,
      "metadata": {
        "id": "KiyKRx07npB5"
      },
      "outputs": [],
      "source": [
        "from sklearn.ensemble import RandomForestRegressor\n",
        "regr_RF = RandomForestRegressor(n_estimators=100,random_state=0)\n",
        "regr_RF.fit(X_train, y_train)\n",
        "p = regr_RF.predict(X_test)"
      ]
    },
    {
      "cell_type": "code",
      "execution_count": null,
      "metadata": {
        "id": "SNDNZyFUiZZW"
      },
      "outputs": [],
      "source": [
        "# sqrt()"
      ]
    },
    {
      "cell_type": "code",
      "execution_count": null,
      "metadata": {
        "colab": {
          "base_uri": "https://localhost:8080/"
        },
        "id": "mRhm684zoNL-",
        "outputId": "f67728f6-b22c-4ab8-fe93-d01b92aed5a4"
      },
      "outputs": [
        {
          "data": {
            "text/plain": [
              "76.03546855565352"
            ]
          },
          "execution_count": 25,
          "metadata": {},
          "output_type": "execute_result"
        }
      ],
      "source": [
        "m.mean_squared_error(y_test, p)"
      ]
    },
    {
      "cell_type": "code",
      "execution_count": null,
      "metadata": {
        "colab": {
          "base_uri": "https://localhost:8080/"
        },
        "id": "-0cormRUoPcD",
        "outputId": "469cb1ab-d2c8-45ff-ec13-2c4788fc0e2a"
      },
      "outputs": [
        {
          "data": {
            "text/plain": [
              "6.0409523809523815"
            ]
          },
          "execution_count": 27,
          "metadata": {},
          "output_type": "execute_result"
        }
      ],
      "source": [
        "m.mean_absolute_error(y_test, p)"
      ]
    },
    {
      "cell_type": "code",
      "execution_count": null,
      "metadata": {
        "colab": {
          "base_uri": "https://localhost:8080/"
        },
        "id": "LhVGOT5CoOoC",
        "outputId": "f26ef3e3-2b4f-4ca0-fe21-d741291a2a3a"
      },
      "outputs": [
        {
          "data": {
            "text/plain": [
              "0.31372773127309395"
            ]
          },
          "execution_count": 28,
          "metadata": {},
          "output_type": "execute_result"
        }
      ],
      "source": [
        "m.r2_score(y_test, p)"
      ]
    },
    {
      "cell_type": "code",
      "execution_count": null,
      "metadata": {
        "id": "1WMzybL8jjJ3"
      },
      "outputs": [],
      "source": [
        "importances = regr_RF.feature_importances_"
      ]
    },
    {
      "cell_type": "code",
      "execution_count": null,
      "metadata": {
        "id": "TGu5lp_jj2y0"
      },
      "outputs": [],
      "source": [
        "feature_names = X_train.columns"
      ]
    },
    {
      "cell_type": "code",
      "execution_count": null,
      "metadata": {
        "colab": {
          "base_uri": "https://localhost:8080/",
          "height": 307
        },
        "id": "SjZIQSfOjkwN",
        "outputId": "fe1ddeae-2345-4bd6-ad9f-223d6d35c740"
      },
      "outputs": [
        {
          "data": {
            "image/png": "[encoded data removed]",
            "text/plain": [
              "<Figure size 432x288 with 1 Axes>"
            ]
          },
          "metadata": {},
          "output_type": "display_data"
        }
      ],
      "source": [
        "import matplotlib.pyplot as plt\n",
        "\n",
        "forest_importances = pd.Series(importances, index=feature_names)\n",
        "\n",
        "fig, ax = plt.subplots()\n",
        "forest_importances.plot.bar()\n",
        "ax.set_title(\"Feature importances using MDI\")\n",
        "ax.set_ylabel(\"Mean decrease in impurity\")\n",
        "fig.tight_layout()"
      ]
    },
    {
      "cell_type": "code",
      "execution_count": null,
      "metadata": {
        "colab": {
          "base_uri": "https://localhost:8080/",
          "height": 300
        },
        "id": "565TqhZoUamn",
        "outputId": "dc743cb2-b975-44b1-d781-4d5c80a5d1b2"
      },
      "outputs": [
        {
          "data": {
            "text/plain": [
              "Text(0, 0.5, 'Predicted Age')"
            ]
          },
          "execution_count": 32,
          "metadata": {},
          "output_type": "execute_result"
        },
        {
          "data": {
            "image/png": "[encoded data removed]",
            "text/plain": [
              "<Figure size 432x288 with 1 Axes>"
            ]
          },
          "metadata": {},
          "output_type": "display_data"
        }
      ],
      "source": [
        "import time\n",
        "import matplotlib.pyplot as plt\n",
        "from sklearn.model_selection import cross_validate, cross_val_predict\n",
        "\n",
        "plt.scatter(y_test,p)\n",
        "plt.xlabel('Real Age')\n",
        "plt.ylabel('Predicted Age')"
      ]
    },
    {
      "cell_type": "code",
      "execution_count": null,
      "metadata": {
        "id": "5dhL1BrFUtQ8"
      },
      "outputs": [],
      "source": [
        "\n",
        "#plot_regression_results(ax,y_test,p,\"age predictor\", )"
      ]
    },
    {
      "cell_type": "code",
      "execution_count": null,
      "metadata": {
        "colab": {
          "base_uri": "https://localhost:8080/"
        },
        "id": "hJJ75UmBU1_r",
        "outputId": "171d7496-62c8-4e53-ceb8-6ea23d393726"
      },
      "outputs": [
        {
          "output_type": "stream",
          "name": "stdout",
          "text": [
            "{'n_estimators': [200, 400, 600, 800, 1000, 1200, 1400, 1600, 1800, 2000], 'max_features': ['auto', 'sqrt'], 'max_depth': [10, 20, 30, 40, 50, 60, 70, 80, 90, 100, 110, None], 'min_samples_split': [2, 5, 10], 'min_samples_leaf': [1, 2, 4], 'bootstrap': [True, False]}\n"
          ]
        },
        {
          "output_type": "execute_result",
          "data": {
            "text/plain": [
              "{'bootstrap': [True, False],\n",
              " 'max_depth': [10, 20, 30, 40, 50, 60, 70, 80, 90, 100, None],\n",
              " 'max_features': ['auto', 'sqrt'],\n",
              " 'min_samples_leaf': [1, 2, 4],\n",
              " 'min_samples_split': [2, 5, 10],\n",
              " 'n_estimators': [200, 400, 600, 800, 1000, 1200, 1400, 1600, 1800, 2000]}"
            ]
          },
          "metadata": {},
          "execution_count": 97
        }
      ],
      "source": [
        "from sklearn.model_selection import RandomizedSearchCV\n",
        "\n",
        "# Number of trees in random forest\n",
        "n_estimators = [int(x) for x in np.linspace(start = 200, stop = 2000, num = 10)]\n",
        "# Number of features to consider at every split\n",
        "max_features = ['auto', 'sqrt']\n",
        "# Maximum number of levels in tree\n",
        "max_depth = [int(x) for x in np.linspace(10, 110, num = 11)]\n",
        "max_depth.append(None)\n",
        "# Minimum number of samples required to split a node\n",
        "min_samples_split = [2, 5, 10]\n",
        "# Minimum number of samples required at each leaf node\n",
        "min_samples_leaf = [1, 2, 4]\n",
        "# Method of selecting samples for training each tree\n",
        "bootstrap = [True, False]\n",
        "# Create the random grid\n",
        "random_grid = {'n_estimators': n_estimators,\n",
        "               'max_features': max_features,\n",
        "               'max_depth': max_depth,\n",
        "               'min_samples_split': min_samples_split,\n",
        "               'min_samples_leaf': min_samples_leaf,\n",
        "               'bootstrap': bootstrap}\n",
        "print(random_grid)\n",
        "{'bootstrap': [True, False],\n",
        " 'max_depth': [10, 20, 30, 40, 50, 60, 70, 80, 90, 100, None],\n",
        " 'max_features': ['auto', 'sqrt'],\n",
        " 'min_samples_leaf': [1, 2, 4],\n",
        " 'min_samples_split': [2, 5, 10],\n",
        " 'n_estimators': [200, 400, 600, 800, 1000, 1200, 1400, 1600, 1800, 2000]}"
      ]
    },
    {
      "cell_type": "code",
      "execution_count": null,
      "metadata": {
        "id": "uJCyfBqcZ5SR"
      },
      "outputs": [],
      "source": [
        "# Procurar os melhores hiperparâmetros\n",
        "# Criando o modelo base para ajustar\n",
        "rf = RandomForestRegressor()\n",
        "# Random search of parameters, using 3 fold cross validation, \n",
        "# search across 100 different combinations, and use all available cores\n",
        "rfg = RandomizedSearchCV(estimator = rf, param_distributions = random_grid, n_iter = 100, cv = 3, verbose=2, random_state=42, n_jobs = -1)"
      ]
    },
    {
      "cell_type": "code",
      "execution_count": null,
      "metadata": {
        "colab": {
          "base_uri": "https://localhost:8080/"
        },
        "id": "5pJ8vAPVZ7NN",
        "outputId": "9c5bf92f-c6be-4790-fc66-31b0474dfaa7"
      },
      "outputs": [
        {
          "output_type": "stream",
          "name": "stdout",
          "text": [
            "Fitting 3 folds for each of 100 candidates, totalling 300 fits\n"
          ]
        }
      ],
      "source": [
        "rfg.fit(X_train, y_train)"
      ]
    },
    {
      "cell_type": "code",
      "execution_count": null,
      "metadata": {
        "colab": {
          "base_uri": "https://localhost:8080/"
        },
        "id": "03-j8OrZZ8eQ",
        "outputId": "e02593d5-a21c-426d-b606-78c25f35be00"
      },
      "outputs": [
        {
          "data": {
            "text/plain": [
              "{'bootstrap': True,\n",
              " 'max_depth': 100,\n",
              " 'max_features': 'auto',\n",
              " 'min_samples_leaf': 1,\n",
              " 'min_samples_split': 2,\n",
              " 'n_estimators': 800}"
            ]
          },
          "execution_count": 39,
          "metadata": {},
          "output_type": "execute_result"
        }
      ],
      "source": [
        "rfg.best_params_"
      ]
    },
    {
      "cell_type": "code",
      "execution_count": null,
      "metadata": {
        "id": "0P-2azNObfA-"
      },
      "outputs": [],
      "source": [
        "rfr = RandomForestRegressor(bootstrap= True,max_depth=100,max_features= 'auto',\n",
        "                            min_samples_leaf= 1,min_samples_split= 2,n_estimators=800)"
      ]
    },
    {
      "cell_type": "code",
      "execution_count": null,
      "metadata": {
        "colab": {
          "base_uri": "https://localhost:8080/"
        },
        "id": "wSZOvoUQbrmV",
        "outputId": "3d8b612c-4b44-4a27-ffee-7c4d0a1252be"
      },
      "outputs": [
        {
          "data": {
            "text/plain": [
              "RandomForestRegressor(max_depth=100, n_estimators=800)"
            ]
          },
          "execution_count": 41,
          "metadata": {},
          "output_type": "execute_result"
        }
      ],
      "source": [
        "rfr.fit(X_train, y_train)"
      ]
    },
    {
      "cell_type": "code",
      "execution_count": null,
      "metadata": {
        "id": "0O4eadwobsjg"
      },
      "outputs": [],
      "source": [
        "p_rf = rfr.predict(X_test)"
      ]
    },
    {
      "cell_type": "code",
      "source": [
        ""
      ],
      "metadata": {
        "id": "1f1zDxqGgdDz"
      },
      "execution_count": null,
      "outputs": []
    },
    {
      "cell_type": "code",
      "execution_count": null,
      "metadata": {
        "colab": {
          "base_uri": "https://localhost:8080/"
        },
        "id": "hFtFyo6Kbugp",
        "outputId": "5db7773d-da76-43c3-8f90-d4e90808698c"
      },
      "outputs": [
        {
          "data": {
            "text/plain": [
              "0.32124940473779406"
            ]
          },
          "execution_count": 43,
          "metadata": {},
          "output_type": "execute_result"
        }
      ],
      "source": [
        "m.r2_score(y_test, p_rf)"
      ]
    },
    {
      "cell_type": "code",
      "execution_count": null,
      "metadata": {
        "colab": {
          "base_uri": "https://localhost:8080/"
        },
        "id": "X4kZx9z-bxpc",
        "outputId": "3b907464-cc76-42be-a303-bb8fc126b0d4"
      },
      "outputs": [
        {
          "data": {
            "text/plain": [
              "5.970843253968254"
            ]
          },
          "execution_count": 44,
          "metadata": {},
          "output_type": "execute_result"
        }
      ],
      "source": [
        "m.mean_absolute_error(y_test, p_rf)"
      ]
    },
    {
      "cell_type": "code",
      "execution_count": null,
      "metadata": {
        "colab": {
          "base_uri": "https://localhost:8080/"
        },
        "id": "lBcjtXf0bzcl",
        "outputId": "23897434-dcb4-48e4-f451-2d5442c856d1"
      },
      "outputs": [
        {
          "data": {
            "text/plain": [
              "54.09248059275793"
            ]
          },
          "execution_count": 45,
          "metadata": {},
          "output_type": "execute_result"
        }
      ],
      "source": [
        "m.mean_squared_error(y_test, p_rf)"
      ]
    },
    {
      "cell_type": "code",
      "execution_count": null,
      "metadata": {
        "id": "--VIAK4JcORn"
      },
      "outputs": [],
      "source": [
        "## Adaboost"
      ]
    },
    {
      "cell_type": "code",
      "execution_count": null,
      "metadata": {
        "id": "5XJh_KIJccty"
      },
      "outputs": [],
      "source": [
        "from sklearn.ensemble import AdaBoostRegressor"
      ]
    },
    {
      "cell_type": "code",
      "execution_count": null,
      "metadata": {
        "id": "bkMxcT3cchPp"
      },
      "outputs": [],
      "source": [
        "ada = AdaBoostRegressor(random_state=0)"
      ]
    },
    {
      "cell_type": "code",
      "execution_count": null,
      "metadata": {
        "colab": {
          "base_uri": "https://localhost:8080/"
        },
        "id": "fneROKaqcpH3",
        "outputId": "88294fa3-5539-4be2-a235-fd0309545d1c"
      },
      "outputs": [
        {
          "data": {
            "text/plain": [
              "AdaBoostRegressor(random_state=0)"
            ]
          },
          "execution_count": 58,
          "metadata": {},
          "output_type": "execute_result"
        }
      ],
      "source": [
        "ada.fit(X_train, y_train)"
      ]
    },
    {
      "cell_type": "code",
      "execution_count": null,
      "metadata": {
        "id": "fg6n_exPcrkA"
      },
      "outputs": [],
      "source": [
        "p_ada = ada.predict(X_test)"
      ]
    },
    {
      "cell_type": "code",
      "execution_count": null,
      "metadata": {
        "colab": {
          "base_uri": "https://localhost:8080/"
        },
        "id": "tqol-1TZcrqe",
        "outputId": "8188d66f-1622-4a19-ab3c-32aadb1e7ec2"
      },
      "outputs": [
        {
          "data": {
            "text/plain": [
              "0.24327368772658076"
            ]
          },
          "execution_count": 60,
          "metadata": {},
          "output_type": "execute_result"
        }
      ],
      "source": [
        "m.r2_score(y_test, p_ada)"
      ]
    },
    {
      "cell_type": "code",
      "execution_count": null,
      "metadata": {
        "colab": {
          "base_uri": "https://localhost:8080/"
        },
        "id": "6w8FUqhQdCwo",
        "outputId": "59cd5b5b-8f3e-4691-a091-67d9716a8599"
      },
      "outputs": [
        {
          "data": {
            "text/plain": [
              "6.283216681127984"
            ]
          },
          "execution_count": 61,
          "metadata": {},
          "output_type": "execute_result"
        }
      ],
      "source": [
        "m.mean_absolute_error(y_test, p_ada)"
      ]
    },
    {
      "cell_type": "code",
      "execution_count": null,
      "metadata": {
        "colab": {
          "base_uri": "https://localhost:8080/"
        },
        "id": "zNizuYHddDDE",
        "outputId": "2bebd3ef-dddf-4819-bd35-1d6726e84857"
      },
      "outputs": [
        {
          "data": {
            "text/plain": [
              "60.30669239393658"
            ]
          },
          "execution_count": 62,
          "metadata": {},
          "output_type": "execute_result"
        }
      ],
      "source": [
        "m.mean_squared_error(y_test, p_ada)"
      ]
    },
    {
      "cell_type": "code",
      "execution_count": null,
      "metadata": {
        "id": "bEFNHtCfbjF8"
      },
      "outputs": [],
      "source": [
        ""
      ]
    },
    {
      "cell_type": "code",
      "execution_count": null,
      "metadata": {
        "colab": {
          "base_uri": "https://localhost:8080/"
        },
        "id": "vgkubgqFZv9J",
        "outputId": "b776eafe-b74f-4b2f-9d7b-0b2fac279e87"
      },
      "outputs": [
        {
          "output_type": "stream",
          "name": "stdout",
          "text": [
            "Fitting 3 folds for each of 30 candidates, totalling 90 fits\n"
          ]
        },
        {
          "output_type": "stream",
          "name": "stderr",
          "text": [
            "/usr/local/lib/python3.7/dist-packages/sklearn/model_selection/_search.py:296: UserWarning: The total space of parameters 30 is smaller than n_iter=100. Running 30 iterations. For exhaustive searches, use GridSearchCV.\n",
            "  UserWarning,\n"
          ]
        },
        {
          "output_type": "execute_result",
          "data": {
            "text/plain": [
              "RandomizedSearchCV(cv=3, estimator=AdaBoostRegressor(), n_iter=100, n_jobs=-1,\n",
              "                   param_distributions={'learning_rate': [0.01, 0.05, 0.1, 0.3,\n",
              "                                                          1],\n",
              "                                        'loss': ['linear', 'square',\n",
              "                                                 'exponential'],\n",
              "                                        'n_estimators': [50, 100]},\n",
              "                   random_state=42, verbose=2)"
            ]
          },
          "metadata": {},
          "execution_count": 64
        }
      ],
      "source": [
        "#Adaboost random CV search \n",
        "\n",
        "\n",
        "from sklearn.ensemble import AdaBoostRegressor\n",
        "from sklearn.model_selection import RandomizedSearchCV\n",
        "\n",
        "param_dist = {\n",
        " 'n_estimators': [50, 100],\n",
        " 'learning_rate' : [0.01,0.05,0.1,0.3,1],\n",
        " 'loss' : ['linear', 'square', 'exponential']\n",
        " }\n",
        "\n",
        "pre_gs_inst =AdaBoostRegressor()\n",
        "ada_g = RandomizedSearchCV(pre_gs_inst , param_distributions = param_dist, n_iter = 100, cv = 3, verbose=2, random_state=42, n_jobs = -1);\n",
        "ada_g.fit(X_train, y_train)\n"
      ]
    },
    {
      "cell_type": "code",
      "source": [
        "ada_g.best_params_"
      ],
      "metadata": {
        "colab": {
          "base_uri": "https://localhost:8080/"
        },
        "id": "M8RVJVXAmQxC",
        "outputId": "6d7de26b-90bd-4bd7-ea33-76ef87b693fc"
      },
      "execution_count": null,
      "outputs": [
        {
          "output_type": "execute_result",
          "data": {
            "text/plain": [
              "{'learning_rate': 1, 'loss': 'square', 'n_estimators': 100}"
            ]
          },
          "metadata": {},
          "execution_count": 72
        }
      ]
    },
    {
      "cell_type": "code",
      "source": [
        "best_gs_inst =AdaBoostRegressor(learning_rate= 1, loss= 'square', n_estimators= 100)\n",
        "best_gs_inst.fit(X_train,y_train)"
      ],
      "metadata": {
        "colab": {
          "base_uri": "https://localhost:8080/"
        },
        "id": "-hr5gwUQmdVt",
        "outputId": "92478039-bae5-4614-92b7-3fba1a291396"
      },
      "execution_count": null,
      "outputs": [
        {
          "output_type": "execute_result",
          "data": {
            "text/plain": [
              "AdaBoostRegressor(learning_rate=1, loss='square', n_estimators=100)"
            ]
          },
          "metadata": {},
          "execution_count": 78
        }
      ]
    },
    {
      "cell_type": "code",
      "source": [
        "p_ada_g=best_gs_inst.predict(X_test)\n"
      ],
      "metadata": {
        "id": "LjK9VKXclHC1"
      },
      "execution_count": null,
      "outputs": []
    },
    {
      "cell_type": "code",
      "source": [
        "m.r2_score(y_test, p_ada_g)"
      ],
      "metadata": {
        "colab": {
          "base_uri": "https://localhost:8080/"
        },
        "id": "3YfGJDF4lt-4",
        "outputId": "ea4875fb-beee-4047-e2e2-c66b29f58883"
      },
      "execution_count": null,
      "outputs": [
        {
          "output_type": "execute_result",
          "data": {
            "text/plain": [
              "0.3026278133019338"
            ]
          },
          "metadata": {},
          "execution_count": 80
        }
      ]
    },
    {
      "cell_type": "code",
      "source": [
        "m.mean_absolute_error(y_test, p_ada_g)"
      ],
      "metadata": {
        "colab": {
          "base_uri": "https://localhost:8080/"
        },
        "id": "uanllru1l3u_",
        "outputId": "896ec72a-df76-4d12-f20d-988a0001ce65"
      },
      "execution_count": null,
      "outputs": [
        {
          "output_type": "execute_result",
          "data": {
            "text/plain": [
              "5.87322640568855"
            ]
          },
          "metadata": {},
          "execution_count": 81
        }
      ]
    },
    {
      "cell_type": "code",
      "source": [
        "m.mean_squared_error(y_test, p_ada_g)"
      ],
      "metadata": {
        "colab": {
          "base_uri": "https://localhost:8080/"
        },
        "id": "335gUyz2l5lV",
        "outputId": "e280c82a-98b4-4ae8-c095-88602f5dba9f"
      },
      "execution_count": null,
      "outputs": [
        {
          "output_type": "execute_result",
          "data": {
            "text/plain": [
              "55.57651328515124"
            ]
          },
          "metadata": {},
          "execution_count": 82
        }
      ]
    },
    {
      "cell_type": "code",
      "execution_count": null,
      "metadata": {
        "id": "oDl3Kx3kbqpZ"
      },
      "outputs": [],
      "source": [
        "#Ajustar os melhores parâmetros do Adaboost\n"
      ]
    },
    {
      "cell_type": "code",
      "execution_count": null,
      "metadata": {
        "id": "frRXr2UWZws7"
      },
      "outputs": [],
      "source": [
        "#MLP Classsifier"
      ]
    },
    {
      "cell_type": "code",
      "execution_count": null,
      "metadata": {
        "id": "3Gzl9dLNdHWs"
      },
      "outputs": [],
      "source": [
        "from sklearn.neural_network import MLPRegressor\n",
        "from sklearn.datasets import make_regression"
      ]
    },
    {
      "cell_type": "code",
      "execution_count": null,
      "metadata": {
        "id": "D3bHTQsBdQMU"
      },
      "outputs": [],
      "source": [
        "mlpr = MLPRegressor(random_state=1, max_iter=500)"
      ]
    },
    {
      "cell_type": "code",
      "execution_count": null,
      "metadata": {
        "colab": {
          "base_uri": "https://localhost:8080/"
        },
        "id": "k55XOyL2dU95",
        "outputId": "5279ce32-ba5d-4d92-a80a-4ca3b8440dc1"
      },
      "outputs": [
        {
          "data": {
            "text/plain": [
              "MLPRegressor(max_iter=500, random_state=1)"
            ]
          },
          "execution_count": 66,
          "metadata": {},
          "output_type": "execute_result"
        }
      ],
      "source": [
        "mlpr.fit(X_train, y_train)"
      ]
    },
    {
      "cell_type": "code",
      "execution_count": null,
      "metadata": {
        "id": "uyx9wR05dbG_"
      },
      "outputs": [],
      "source": [
        "p_mlp = mlpr.predict(X_test)"
      ]
    },
    {
      "cell_type": "code",
      "execution_count": null,
      "metadata": {
        "colab": {
          "base_uri": "https://localhost:8080/"
        },
        "id": "BmbOVAaddgBi",
        "outputId": "b5abf933-9fd7-4ef6-b081-bfc955937c41"
      },
      "outputs": [
        {
          "data": {
            "text/plain": [
              "-1.1120391771793239"
            ]
          },
          "execution_count": 68,
          "metadata": {},
          "output_type": "execute_result"
        }
      ],
      "source": [
        "m.r2_score(y_test, p_mlp,force_finite=False)"
      ]
    },
    {
      "cell_type": "code",
      "execution_count": null,
      "metadata": {
        "colab": {
          "base_uri": "https://localhost:8080/"
        },
        "id": "vrd3biIpdg_F",
        "outputId": "93aeadab-7962-4532-9d29-0ef16cae3296"
      },
      "outputs": [
        {
          "data": {
            "text/plain": [
              "10.312404587415577"
            ]
          },
          "execution_count": 69,
          "metadata": {},
          "output_type": "execute_result"
        }
      ],
      "source": [
        "m.mean_absolute_error(y_test, p_mlp)"
      ]
    },
    {
      "cell_type": "code",
      "execution_count": null,
      "metadata": {
        "colab": {
          "base_uri": "https://localhost:8080/"
        },
        "id": "z_jXHi30diRj",
        "outputId": "ce3227e7-3962-4c4e-c658-d455eae14f1b"
      },
      "outputs": [
        {
          "data": {
            "text/plain": [
              "168.31725673637638"
            ]
          },
          "execution_count": 70,
          "metadata": {},
          "output_type": "execute_result"
        }
      ],
      "source": [
        "m.mean_squared_error(y_test, p_mlp)"
      ]
    },
    {
      "cell_type": "code",
      "execution_count": null,
      "metadata": {
        "id": "HaIDv-QqkpUO",
        "colab": {
          "base_uri": "https://localhost:8080/"
        },
        "outputId": "8162ccda-3144-4eea-871f-93429177f844"
      },
      "outputs": [
        {
          "output_type": "stream",
          "name": "stderr",
          "text": [
            "/usr/local/lib/python3.7/dist-packages/sklearn/model_selection/_search.py:972: UserWarning: One or more of the test scores are non-finite: [-1.00182466e+000 -6.13398232e+001 -1.95661784e+000 -6.08434344e+001\n",
            " -9.41604219e-001 -6.15485664e+001 -1.94879383e+000 -5.94491232e+001\n",
            " -3.25999188e-001 -4.65587265e+001 -4.64043658e-001 -4.72951763e+001\n",
            " -9.23494125e-001 -6.24289990e+001 -2.30136252e+000 -6.08754439e+001\n",
            " -1.03631490e+000 -6.18436819e+001 -1.82802290e+000 -6.06546179e+001\n",
            " -1.70914863e-001 -4.63101928e+001 -4.29238014e-001 -4.64230912e+001\n",
            "              nan -2.59409587e+000 -6.75531682e-001 -2.46342480e+000\n",
            "             -inf -2.18562382e+000 -1.93727179e+252 -2.12156710e+000\n",
            " -3.98737525e+001 -1.66973255e+000 -1.95014145e+001 -1.54656784e+000\n",
            "              nan -2.55469684e+000             -inf -2.60499914e+000\n",
            " -3.94136127e+274 -2.06801556e+000 -2.56692033e+001 -2.00583538e+000\n",
            " -2.76609621e+001 -1.55984400e+000 -2.66217944e+001 -1.43457375e+000]\n",
            "  category=UserWarning,\n",
            "/usr/local/lib/python3.7/dist-packages/sklearn/model_selection/_search.py:978: RuntimeWarning: invalid value encountered in subtract\n",
            "  (array - array_means[:, np.newaxis]) ** 2, axis=1, weights=weights\n",
            "/usr/local/lib/python3.7/dist-packages/sklearn/model_selection/_search.py:978: RuntimeWarning: overflow encountered in square\n",
            "  (array - array_means[:, np.newaxis]) ** 2, axis=1, weights=weights\n"
          ]
        },
        {
          "output_type": "execute_result",
          "data": {
            "text/plain": [
              "GridSearchCV(cv=3, estimator=MLPRegressor(max_iter=100), n_jobs=-1,\n",
              "             param_grid={'activation': ['tanh', 'relu'],\n",
              "                         'alpha': [0.0001, 0.05],\n",
              "                         'hidden_layer_sizes': [(50, 50, 50), (50, 100, 50),\n",
              "                                                (100,)],\n",
              "                         'learning_rate': ['constant', 'adaptive'],\n",
              "                         'solver': ['sgd', 'adam']})"
            ]
          },
          "metadata": {},
          "execution_count": 84
        }
      ],
      "source": [
        "# MLP CV Search\n",
        "\n",
        "from sklearn.neural_network import MLPRegressor\n",
        "mlp = MLPRegressor(max_iter=100)\n",
        "parameter_space = {\n",
        "    'hidden_layer_sizes': [(50,50,50), (50,100,50), (100,)],\n",
        "    'activation': ['tanh', 'relu'],\n",
        "    'solver': ['sgd', 'adam'],\n",
        "    'alpha': [0.0001, 0.05],\n",
        "    'learning_rate': ['constant','adaptive'],\n",
        "}\n",
        "from sklearn.model_selection import GridSearchCV\n",
        "\n",
        "clf = GridSearchCV(mlp, parameter_space, n_jobs=-1, cv=3)\n",
        "clf.fit(X_train, y_train)"
      ]
    },
    {
      "cell_type": "code",
      "source": [
        "clf.best_params_\n"
      ],
      "metadata": {
        "colab": {
          "base_uri": "https://localhost:8080/"
        },
        "id": "WIfz77jWsCAC",
        "outputId": "8a628486-a25a-4a07-da13-4dd23c978a6e"
      },
      "execution_count": null,
      "outputs": [
        {
          "output_type": "execute_result",
          "data": {
            "text/plain": [
              "{'activation': 'tanh',\n",
              " 'alpha': 0.05,\n",
              " 'hidden_layer_sizes': (100,),\n",
              " 'learning_rate': 'constant',\n",
              " 'solver': 'sgd'}"
            ]
          },
          "metadata": {},
          "execution_count": 85
        }
      ]
    },
    {
      "cell_type": "code",
      "source": [
        "#avaliando MLP com melhores parmetros\n",
        "mlp_g_best=MLPRegressor(activation= 'tanh',alpha= 0.05, hidden_layer_sizes= (100,),learning_rate= 'constant', solver= 'sgd')\n"
      ],
      "metadata": {
        "id": "jN-R4-MUgeVu"
      },
      "execution_count": null,
      "outputs": []
    },
    {
      "cell_type": "code",
      "source": [
        "mlp_g_best.fit(X_train,y_train)"
      ],
      "metadata": {
        "colab": {
          "base_uri": "https://localhost:8080/"
        },
        "id": "p_0Z8D-Rsv_g",
        "outputId": "a3c8b7fe-285d-4688-e871-afe4a9157343"
      },
      "execution_count": null,
      "outputs": [
        {
          "output_type": "execute_result",
          "data": {
            "text/plain": [
              "MLPRegressor(activation='tanh', alpha=0.05, solver='sgd')"
            ]
          },
          "metadata": {},
          "execution_count": 89
        }
      ]
    },
    {
      "cell_type": "code",
      "source": [
        "p_mlp = mlp_g_best.predict(X_test)\n"
      ],
      "metadata": {
        "id": "yRBuHaEyhCVC"
      },
      "execution_count": null,
      "outputs": []
    },
    {
      "cell_type": "code",
      "source": [
        "m.r2_score(y_test, p_mlp, force_finite=False))\n"
      ],
      "metadata": {
        "colab": {
          "base_uri": "https://localhost:8080/"
        },
        "id": "yOJooWtBhDsq",
        "outputId": "79047ba1-a4bf-4bf5-cbf1-49dd13645983"
      },
      "execution_count": null,
      "outputs": [
        {
          "output_type": "execute_result",
          "data": {
            "text/plain": [
              "-0.0049620314238219"
            ]
          },
          "metadata": {},
          "execution_count": 93
        }
      ]
    },
    {
      "cell_type": "code",
      "source": [
        "m.mean_absolute_error(y_test, p_mlp)\n"
      ],
      "metadata": {
        "colab": {
          "base_uri": "https://localhost:8080/"
        },
        "id": "nxGggT4EhE1j",
        "outputId": "0ce29c34-3177-44df-cbb3-ffd108e57037"
      },
      "execution_count": null,
      "outputs": [
        {
          "output_type": "execute_result",
          "data": {
            "text/plain": [
              "7.538209107036237"
            ]
          },
          "metadata": {},
          "execution_count": 94
        }
      ]
    },
    {
      "cell_type": "code",
      "source": [
        "m.mean_absolute_error(y_test, p_mlp)\n"
      ],
      "metadata": {
        "colab": {
          "base_uri": "https://localhost:8080/"
        },
        "id": "_ZqCFpGxhGA6",
        "outputId": "c921c672-a6a4-441d-e9bf-65aabced8ea5"
      },
      "execution_count": null,
      "outputs": [
        {
          "output_type": "execute_result",
          "data": {
            "text/plain": [
              "7.538209107036237"
            ]
          },
          "metadata": {},
          "execution_count": 95
        }
      ]
    },
    {
      "cell_type": "code",
      "source": [
        "m.mean_squared_error(y_test, p_mlp)"
      ],
      "metadata": {
        "colab": {
          "base_uri": "https://localhost:8080/"
        },
        "id": "0Zo6ddnXhHGg",
        "outputId": "a3383a75-b86d-464a-8508-ee02396753e1"
      },
      "execution_count": null,
      "outputs": [
        {
          "output_type": "execute_result",
          "data": {
            "text/plain": [
              "80.08963757925204"
            ]
          },
          "metadata": {},
          "execution_count": 96
        }
      ]
    }
  ],
  "metadata": {
    "colab": {
      "collapsed_sections": [],
      "name": "age-predictor.ipynb",
      "provenance": [],
      "include_colab_link": true
    },
    "kernelspec": {
      "display_name": "Python 3",
      "name": "python3"
    },
    "language_info": {
      "name": "python"
    }
  },
  "nbformat": 4,
  "nbformat_minor": 0
}